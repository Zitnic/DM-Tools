{
 "cells": [
  {
   "cell_type": "markdown",
   "metadata": {},
   "source": [
    "# Dicerollers\n",
    "Create diceroller tools for DM'ing"
   ]
  },
  {
   "cell_type": "code",
   "execution_count": 1,
   "metadata": {},
   "outputs": [],
   "source": [
    "#Roll xdice - this is an iterable. Default to a d6\n",
    "import random\n",
    "def xdice(x, dice=6):\n",
    "    for i in range(x):\n",
    "        yield random.randint(1,dice)\n",
    "        "
   ]
  },
  {
   "cell_type": "code",
   "execution_count": 2,
   "metadata": {},
   "outputs": [
    {
     "name": "stdout",
     "output_type": "stream",
     "text": [
      "total: 43, halfdamage 22\n"
     ]
    }
   ],
   "source": [
    "#Get a total    \n",
    "tot = (sum(xdice(14,6))) #14d6\n",
    "print (f'total: {tot}, halfdamage {int(round(tot/2))}')"
   ]
  },
  {
   "cell_type": "code",
   "execution_count": 15,
   "metadata": {},
   "outputs": [],
   "source": [
    "#Get the individual numbers and a total roll 3\n",
    "def diceroll(text):\n",
    "    x, dice = text.split('d')\n",
    "    if '+' in dice:\n",
    "        dice, extra = dice.split('+')\n",
    "    \n",
    "    tot=0\n",
    "    for num in xdice(int(x),int(dice)):\n",
    "        print(num)\n",
    "        tot += num\n",
    "    tot += int(extra)\n",
    "    print (f'total of {int(x)}d{int(dice)}(+{int(extra)}) : {int(tot)}')"
   ]
  },
  {
   "cell_type": "code",
   "execution_count": 16,
   "metadata": {},
   "outputs": [
    {
     "name": "stdout",
     "output_type": "stream",
     "text": [
      "8\n",
      "1\n",
      "total of 2d8(+5) : 14\n"
     ]
    }
   ],
   "source": [
    "diceroll('2d8+5')"
   ]
  },
  {
   "cell_type": "markdown",
   "metadata": {},
   "source": [
    "## Initiative tracker\n",
    "Get list of players or mosters and initiative roll\n",
    "\n",
    "Order the list based on initative"
   ]
  },
  {
   "cell_type": "code",
   "execution_count": 39,
   "metadata": {},
   "outputs": [
    {
     "name": "stdout",
     "output_type": "stream",
     "text": [
      "enter player and initiative or X to exit: lana\n",
      "enter lana's initiative: 12\n",
      "enter player and initiative or X to exit: pete\n",
      "enter pete's initiative: 44\n",
      "enter player and initiative or X to exit: monster\n",
      "enter monster's initiative: 31\n",
      "enter player and initiative or X to exit: squid\n",
      "enter squid's initiative: 13\n",
      "enter player and initiative or X to exit: x\n",
      "pete: 44\n",
      "monster: 31\n",
      "squid: 13\n",
      "lana: 12\n"
     ]
    }
   ],
   "source": [
    "from collections import OrderedDict\n",
    "initiative_ordered = OrderedDict()\n",
    "\n",
    "#use p for adding new pairs, sort it afterwards. Highest initiative first\n",
    "#then put it into the initiative tracker\n",
    "\n",
    "p = {}\n",
    "\n",
    "inputting=True\n",
    "while inputting:\n",
    "    player = input('enter player and initiative or X to exit: ')\n",
    "    if player.upper()=='X':\n",
    "        inputting=False\n",
    "        break\n",
    "    intiative =  input(f'enter {player}\\'s initiative: ')\n",
    "    p[player] = intiative\n",
    "    \n",
    "for key, value in sorted(p.items(), key=lambda item: (int(item[1]), item[0]), reverse=True):\n",
    "    initiative_ordered[key]=value\n",
    "    \n",
    "for key, value in initiative_ordered.items():\n",
    "    print (f\"{key}: {value}\")\n"
   ]
  },
  {
   "cell_type": "code",
   "execution_count": null,
   "metadata": {},
   "outputs": [],
   "source": []
  },
  {
   "cell_type": "code",
   "execution_count": null,
   "metadata": {},
   "outputs": [],
   "source": []
  }
 ],
 "metadata": {
  "kernelspec": {
   "display_name": "Python 3",
   "language": "python",
   "name": "python3"
  },
  "language_info": {
   "codemirror_mode": {
    "name": "ipython",
    "version": 3
   },
   "file_extension": ".py",
   "mimetype": "text/x-python",
   "name": "python",
   "nbconvert_exporter": "python",
   "pygments_lexer": "ipython3",
   "version": "3.7.1"
  }
 },
 "nbformat": 4,
 "nbformat_minor": 2
}
